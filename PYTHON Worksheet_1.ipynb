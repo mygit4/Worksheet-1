{
 "cells": [
  {
   "cell_type": "markdown",
   "metadata": {},
   "source": [
    "# Python worksheet_1"
   ]
  },
  {
   "cell_type": "code",
   "execution_count": 8,
   "metadata": {},
   "outputs": [
    {
     "name": "stdout",
     "output_type": "stream",
     "text": [
      "enter the number to find the factorial8\n",
      "The factorial is  40320\n"
     ]
    }
   ],
   "source": [
    "# Python program to find the factorial of a number\n",
    "\n",
    "n=int(input(\"enter the number to find the factorial\"))\n",
    "def fact(n):\n",
    "    \n",
    "    if n==1 :\n",
    "        return 1\n",
    "    else :\n",
    "        return n*fact(n-1)\n",
    "    \n",
    "if n<0 :\n",
    "    print(\" number is negative . factorial not possible\")\n",
    "elif n==0:\n",
    "    print(\"The factorial is \",1)\n",
    "else:\n",
    "     print(\"The factorial is \",fact(n))"
   ]
  },
  {
   "cell_type": "code",
   "execution_count": null,
   "metadata": {},
   "outputs": [],
   "source": []
  },
  {
   "cell_type": "code",
   "execution_count": 1,
   "metadata": {},
   "outputs": [
    {
     "name": "stdout",
     "output_type": "stream",
     "text": [
      "Enter any number : 3\n",
      "3 is a PRIME number\n"
     ]
    }
   ],
   "source": [
    "# Python program to find whether a number is prime or composite\n",
    "\n",
    "num = int(input(\"Enter any number : \"))\n",
    "if num > 1:\n",
    "    for i in range(2, num):\n",
    "        if (num % i) == 0:\n",
    "            print(num, \"is NOT a prime number\")\n",
    "            break\n",
    "    else:\n",
    "        print(num, \"is a PRIME number\")\n",
    "elif num == 0 or 1:\n",
    "    print(num, \"is a neither prime NOR composite number\")\n",
    "else:\n",
    "    print(num, \"is NOT a prime number it is a COMPOSITE number\")"
   ]
  },
  {
   "cell_type": "code",
   "execution_count": null,
   "metadata": {},
   "outputs": [],
   "source": []
  },
  {
   "cell_type": "code",
   "execution_count": 6,
   "metadata": {},
   "outputs": [
    {
     "name": "stdout",
     "output_type": "stream",
     "text": [
      "Enter the stringlevel\n",
      "the string is palindrome\n"
     ]
    }
   ],
   "source": [
    "#Python program to check whether a given string is palindrome or not\n",
    "\n",
    "string=input(\"Enter the string\")\n",
    "rev_string=\"\"\n",
    "for i in range(1,len(string)+1):\n",
    "    rev_string=rev_string+string.lower()[-i]\n",
    "if rev_string==string:\n",
    "    print(\"the string is palindrome\")\n",
    "else :\n",
    "    print(\"the string is not palindrome\")"
   ]
  },
  {
   "cell_type": "code",
   "execution_count": null,
   "metadata": {},
   "outputs": [],
   "source": []
  },
  {
   "cell_type": "code",
   "execution_count": 7,
   "metadata": {},
   "outputs": [
    {
     "name": "stdout",
     "output_type": "stream",
     "text": [
      "enter the base of the right angled triangle5\n",
      "enter the perpendicular of the right angled triangle4\n",
      "the length of hypotenuse is  6.4031242374328485\n"
     ]
    }
   ],
   "source": [
    "#  Python program to get the third side of right-angled triangle from two given sides\n",
    "import math\n",
    "a=int(input(\"enter the base of the right angled triangle\"))\n",
    "b=int(input(\"enter the perpendicular of the right angled triangle\"))\n",
    "print(\"the length of hypotenuse is \",math.sqrt(a**2+b**2))"
   ]
  },
  {
   "cell_type": "code",
   "execution_count": null,
   "metadata": {},
   "outputs": [],
   "source": []
  },
  {
   "cell_type": "code",
   "execution_count": 9,
   "metadata": {},
   "outputs": [
    {
     "name": "stdout",
     "output_type": "stream",
     "text": [
      "Enter the stringpythonBasic\n",
      " The frequencies of characters in the string are {'p': 1, 'y': 1, 't': 1, 'h': 1, 'o': 1, 'n': 1, 'B': 1, 'a': 1, 's': 1, 'i': 1, 'c': 1}\n"
     ]
    }
   ],
   "source": [
    "#  Python program to print the frequency of each of the characters present in a given string\n",
    "\n",
    "\n",
    "string=input(\"Enter the string\")\n",
    "freq=dict()\n",
    "for i in string :\n",
    "    if i in freq.keys():\n",
    "        freq[i]=freq[i]+1\n",
    "    else :\n",
    "        freq[i]=1\n",
    "print(\" The frequencies of characters in the string are\", freq)"
   ]
  },
  {
   "cell_type": "code",
   "execution_count": null,
   "metadata": {},
   "outputs": [],
   "source": []
  }
 ],
 "metadata": {
  "kernelspec": {
   "display_name": "Python 3",
   "language": "python",
   "name": "python3"
  },
  "language_info": {
   "codemirror_mode": {
    "name": "ipython",
    "version": 3
   },
   "file_extension": ".py",
   "mimetype": "text/x-python",
   "name": "python",
   "nbconvert_exporter": "python",
   "pygments_lexer": "ipython3",
   "version": "3.8.5"
  }
 },
 "nbformat": 4,
 "nbformat_minor": 4
}
